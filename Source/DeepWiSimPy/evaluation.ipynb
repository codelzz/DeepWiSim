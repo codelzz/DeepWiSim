{
 "cells": [
  {
   "cell_type": "markdown",
   "id": "4964d244-2d40-43d4-a6f3-f6f7ba6dd356",
   "metadata": {},
   "source": [
    "# Evaluation\n",
    "\n",
    "The evaluation file use JupyterNotebook to visual the simulation and train result."
   ]
  },
  {
   "cell_type": "code",
   "execution_count": null,
   "id": "3070f25d-2353-4450-a3a4-b6b099fb0c3a",
   "metadata": {},
   "outputs": [],
   "source": [
    "from settings import APP_CONFIG, UNREAL_CONFIG\n",
    "\n",
    "CHECKPOINT_PATH = APP_CONFIG['checkpoint_path']\n",
    "HISTORY_PATH = APP_CONFIG['training_history']\n",
    "CSV_PATH = APP_CONFIG['preprocessed_csv_file']\n",
    "NUM_OF_BEACONS = UNREAL_CONFIG['num_of_beacons']"
   ]
  },
  {
   "cell_type": "markdown",
   "id": "0c1fe0d2-9b08-4f3a-8dc9-175474f7eb3b",
   "metadata": {},
   "source": [
    "## 1. Loss"
   ]
  },
  {
   "cell_type": "code",
   "execution_count": null,
   "id": "3b86f4b6-b456-4f34-b7a9-fc817b4e696d",
   "metadata": {},
   "outputs": [],
   "source": [
    "import pandas as pd\n",
    "import matplotlib.pyplot as plt\n",
    "plt.rcParams.update({'font.size': 18})"
   ]
  },
  {
   "cell_type": "code",
   "execution_count": null,
   "id": "df696ef9-33c6-41a2-ab42-2eaa106b0c42",
   "metadata": {},
   "outputs": [],
   "source": [
    "def plot_loss(df):\n",
    "    plt.figure(figsize=(8,8))\n",
    "    plt.plot(df.training_loss)\n",
    "    plt.plot(df.test_loss)\n",
    "    plt.legend(labels=['training loss','test loss'], loc='upper left')"
   ]
  },
  {
   "cell_type": "code",
   "execution_count": null,
   "id": "612b1e72-9622-4f3b-a6f7-2814ef6feb2b",
   "metadata": {},
   "outputs": [],
   "source": [
    "loss_df = pd.read_csv(HISTORY_PATH)\n",
    "plot_loss(loss_df)"
   ]
  },
  {
   "cell_type": "markdown",
   "id": "ddef67a6-02cd-4d41-b8dd-0096bf11d0ab",
   "metadata": {},
   "source": [
    "Load csv data to dataframe"
   ]
  },
  {
   "cell_type": "code",
   "execution_count": null,
   "id": "014428ff-f125-4867-a970-c71481da3b37",
   "metadata": {},
   "outputs": [],
   "source": [
    "import pandas as pd\n",
    "\n",
    "df = pd.read_csv(CSV_PATH)\n",
    "df.head()"
   ]
  },
  {
   "cell_type": "markdown",
   "id": "887fba8d-5309-48e7-8d95-8b170327f41b",
   "metadata": {},
   "source": [
    "## 2. Load Trained Model"
   ]
  },
  {
   "cell_type": "code",
   "execution_count": null,
   "id": "4e999a8a-fdc5-4c30-ae87-7acf5907adbf",
   "metadata": {},
   "outputs": [],
   "source": [
    "import tensorflow as tf\n",
    "from nn.deepAR import create_model\n",
    "\n",
    "model = create_model(dim_x=NUM_OF_BEACONS, dim_z=3)\n",
    "ckpt = tf.train.Checkpoint(model=model)\n",
    "ckpt_manager = tf.train.CheckpointManager(ckpt, CHECKPOINT_PATH, max_to_keep=100)\n",
    "if ckpt_manager.latest_checkpoint:\n",
    "    ckpt.restore(ckpt_manager.latest_checkpoint)\n",
    "    print(\"Restoring checkpoint from {}\".format(ckpt_manager.latest_checkpoint))"
   ]
  },
  {
   "cell_type": "markdown",
   "id": "51c639a2-29ab-4345-b91d-372a3a8185f9",
   "metadata": {},
   "source": [
    "## 3. Visualize Prediction Result"
   ]
  },
  {
   "cell_type": "markdown",
   "id": "451fd107-83e3-4934-a0e2-1dae0ade830d",
   "metadata": {},
   "source": [
    "### 3.1 Contruct Long Sequence Dataset"
   ]
  },
  {
   "cell_type": "code",
   "execution_count": null,
   "id": "a895d95d-cf21-450c-ba9c-60db7ddb8490",
   "metadata": {},
   "outputs": [],
   "source": [
    "from preprocessing.dataset import DatasetGenerator\n",
    "\n",
    "norm_df = df.drop(columns=['timestamp'])\n",
    "mean, std = list(norm_df.mean()[:3]), list(norm_df.std()[:3])\n",
    "norm_df = (norm_df - norm_df.mean())/(norm_df.std() + 1e-10)\n",
    "columns = list(norm_df.columns)\n",
    "seq_len = 2000\n",
    "long_dg = DatasetGenerator(data=norm_df, input_width=seq_len, label_width=seq_len, \n",
    "                           shift=0, batch_size=1, columns=columns, input_columns=columns[3:], label_columns=columns[:3],  partition=(0.8,0.1,0.1))"
   ]
  },
  {
   "cell_type": "code",
   "execution_count": null,
   "id": "c42731fb-d136-42d4-94d4-3df116da5551",
   "metadata": {},
   "outputs": [],
   "source": [
    "import numpy as np\n",
    "\n",
    "def model_plot2D(model, data, batch_index, title='',warmup_step=10, df_mean=0, df_std=1, x_offset=0, y_offset=0):\n",
    "    plt.figure(figsize=(20,10))\n",
    "    inputs, labels = data\n",
    "    means, _ = model(inputs)\n",
    "    mean = (means[batch_index, :] * df_std + df_mean) * 0.01\n",
    "    label = (labels[batch_index, :] * df_std + df_mean) * 0.01\n",
    "    plt.plot(-mean[warmup_step:, 0] + x_offset, mean[warmup_step:, 1] + y_offset, '-r', alpha=0.5)\n",
    "    plt.plot(-label[warmup_step:,0] + x_offset, label[warmup_step:,1] + y_offset, '--g', alpha=0.5)\n",
    "    plt.legend(labels=['Prediction', 'Ground Truth'], loc='lower left')\n",
    "    plt.xlabel('X Coordinate (m)')\n",
    "    plt.ylabel('Y Coordinate (m)')\n",
    "    plt.title(title)\n",
    "    plt.axis('equal')\n",
    "    plt.show()"
   ]
  },
  {
   "cell_type": "markdown",
   "id": "7a5badc4-2378-42ac-b89c-24a0b2bda8c7",
   "metadata": {},
   "source": [
    "### 3.2 Training-set Result"
   ]
  },
  {
   "cell_type": "code",
   "execution_count": null,
   "id": "90a5ecd9-2c06-4680-9cb1-d95f0a7b8d7f",
   "metadata": {},
   "outputs": [],
   "source": [
    "assert len(list(long_dg.train_ds)) > 0, \"Data size is too small to contruct training-set, please try to collect more data and try again\"\n",
    "model_plot2D(model=model, data=next(iter(long_dg.train_ds)), title='Trajectory Forecasting with Training-set',batch_index=0, df_mean=mean, df_std = std, x_offset=11.5, y_offset=6)"
   ]
  },
  {
   "cell_type": "markdown",
   "id": "44ed8d14-46b4-44d8-b884-3e538fc13b17",
   "metadata": {},
   "source": [
    "### 3.3 Test-set Result"
   ]
  },
  {
   "cell_type": "code",
   "execution_count": null,
   "id": "ed3dfcbc-d814-491f-ac55-87c4c73ad0a2",
   "metadata": {},
   "outputs": [],
   "source": [
    "assert len(list(long_dg.test_ds)) > 0, \"Data size is too small to contruct test-set, please try to collect more data and try again\"\n",
    "model_plot2D(model=model, data=next(iter(long_dg.test_ds)), title='Trajectory Forecasting with Test-set', batch_index=0, df_mean=mean, df_std = std, x_offset=11.5, y_offset=6)"
   ]
  }
 ],
 "metadata": {
  "kernelspec": {
   "display_name": "Python 3",
   "language": "python",
   "name": "python3"
  },
  "language_info": {
   "codemirror_mode": {
    "name": "ipython",
    "version": 3
   },
   "file_extension": ".py",
   "mimetype": "text/x-python",
   "name": "python",
   "nbconvert_exporter": "python",
   "pygments_lexer": "ipython3",
   "version": "3.9.5"
  }
 },
 "nbformat": 4,
 "nbformat_minor": 5
}
