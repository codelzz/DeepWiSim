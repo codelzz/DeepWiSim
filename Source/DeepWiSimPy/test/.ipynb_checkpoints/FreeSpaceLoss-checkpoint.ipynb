{
 "cells": [
  {
   "cell_type": "markdown",
   "id": "60a7a38c-51ab-4bb7-b866-489138f165a4",
   "metadata": {},
   "source": [
    "# Free Space Loss"
   ]
  },
  {
   "cell_type": "markdown",
   "id": "32621b72-b37c-4f5a-838d-c416aa784441",
   "metadata": {},
   "source": [
    "Reference: \n",
    "* https://en.wikipedia.org/wiki/Path_loss"
   ]
  },
  {
   "cell_type": "code",
   "execution_count": 6,
   "id": "130bdc59-3d7e-42f9-b803-a9afd5497e28",
   "metadata": {},
   "outputs": [],
   "source": [
    "import math"
   ]
  },
  {
   "cell_type": "code",
   "execution_count": 24,
   "id": "21dd1174-9829-4713-bf2d-db8303af2f5e",
   "metadata": {},
   "outputs": [],
   "source": [
    "Frequency = 2450000000.0 # For 2.45 GHz bluetooth \n",
    "SpeedOfLight = 299792458.0"
   ]
  },
  {
   "cell_type": "code",
   "execution_count": 25,
   "id": "2d19cece-b3f8-4b89-a2b6-75c04b7a14d3",
   "metadata": {},
   "outputs": [],
   "source": [
    "def FreeSpaceLoss(distance, frequency):\n",
    "    distance_in_meter = distance * 0.01\n",
    "    wavelength = frequency / SpeedOfLight\n",
    "    return math.pow(4.0 * math.pi * distance_in_meter * wavelength, -2.0)"
   ]
  },
  {
   "cell_type": "code",
   "execution_count": 26,
   "id": "32eebf81-24f0-4d0b-91e4-24ee40a88786",
   "metadata": {},
   "outputs": [
    {
     "data": {
      "text/plain": [
       "9.481772023562599e-05"
      ]
     },
     "execution_count": 26,
     "metadata": {},
     "output_type": "execute_result"
    }
   ],
   "source": [
    "distance = 100.0\n",
    "loss = FreeSpaceLoss(distance, Frequency)\n",
    "loss"
   ]
  },
  {
   "cell_type": "code",
   "execution_count": 28,
   "id": "4dd8de89-223d-4550-a75b-416592a4a5b9",
   "metadata": {},
   "outputs": [
    {
     "data": {
      "text/plain": [
       "-40.23110490917403"
      ]
     },
     "execution_count": 28,
     "metadata": {},
     "output_type": "execute_result"
    }
   ],
   "source": [
    "10 * math.log10(loss)"
   ]
  },
  {
   "cell_type": "code",
   "execution_count": 30,
   "id": "84f9b99f-2713-4c66-98d7-cb75d4ad1be0",
   "metadata": {},
   "outputs": [
    {
     "data": {
      "text/plain": [
       "-67.23110490917404"
      ]
     },
     "execution_count": 30,
     "metadata": {},
     "output_type": "execute_result"
    }
   ],
   "source": [
    "-27 + 10 * math.log10(FreeSpaceLoss(distance, Frequency))"
   ]
  },
  {
   "cell_type": "code",
   "execution_count": null,
   "id": "6f404bb5-ef20-4852-8932-4d595aff85cf",
   "metadata": {},
   "outputs": [],
   "source": []
  }
 ],
 "metadata": {
  "kernelspec": {
   "display_name": "Python 3",
   "language": "python",
   "name": "python3"
  },
  "language_info": {
   "codemirror_mode": {
    "name": "ipython",
    "version": 3
   },
   "file_extension": ".py",
   "mimetype": "text/x-python",
   "name": "python",
   "nbconvert_exporter": "python",
   "pygments_lexer": "ipython3",
   "version": "3.9.5"
  }
 },
 "nbformat": 4,
 "nbformat_minor": 5
}
